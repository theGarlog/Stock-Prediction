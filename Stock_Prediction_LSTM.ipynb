{
 "cells": [
  {
   "cell_type": "code",
   "execution_count": 23,
   "id": "422b7519-1ae6-4d15-9f15-9a9ad8dbbe1e",
   "metadata": {},
   "outputs": [],
   "source": [
    "# Stock prediction using Long Short Term Memory (LSTM)\n"
   ]
  },
  {
   "cell_type": "code",
   "execution_count": 25,
   "id": "3e4a78e2-ab80-4fb3-ad9c-139fe0604133",
   "metadata": {},
   "outputs": [],
   "source": [
    "# import libraries\n",
    "import math\n",
    "import pandas_datareader as web\n",
    "import numpy as np\n",
    "import pandas as pd\n",
    "from sklearn.preprocessing import MinMaxScaler\n",
    "from keras_core.models import Sequential\n",
    "from keras_core.layers import Dense, LSTM\n",
    "import matplotli"
   ]
  },
  {
   "cell_type": "code",
   "execution_count": null,
   "id": "bc6305b1-22d3-40c4-8c9f-120a9002fa47",
   "metadata": {},
   "outputs": [],
   "source": []
  }
 ],
 "metadata": {
  "kernelspec": {
   "display_name": "Python 3 (ipykernel)",
   "language": "python",
   "name": "python3"
  },
  "language_info": {
   "codemirror_mode": {
    "name": "ipython",
    "version": 3
   },
   "file_extension": ".py",
   "mimetype": "text/x-python",
   "name": "python",
   "nbconvert_exporter": "python",
   "pygments_lexer": "ipython3",
   "version": "3.12.4"
  }
 },
 "nbformat": 4,
 "nbformat_minor": 5
}
